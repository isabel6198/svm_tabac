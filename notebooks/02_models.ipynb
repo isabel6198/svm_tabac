{
 "cells": [
  {
   "cell_type": "code",
   "execution_count": 1,
   "id": "13c875ec",
   "metadata": {},
   "outputs": [],
   "source": [
    "import sys\n",
    "import os\n",
    "import pandas as pd\n",
    "import numpy as np\n",
    "\n",
    "import matplotlib.pyplot as plt\n",
    "from sklearn import datasets\n",
    "from pathlib import Path\n",
    "\n",
    "\n",
    "#sklearn\n",
    "from sklearn.preprocessing import PolynomialFeatures\n",
    "from sklearn.model_selection import train_test_split\n",
    "\n",
    "#Classifier\n",
    "from sklearn.svm import SVC, LinearSVC\n",
    "from sklearn.linear_model import SGDClassifier , LogisticRegression\n",
    "\n",
    "from sklearn.multiclass import OneVsRestClassifier\n",
    "from sklearn.multiclass import OneVsOneClassifier\n",
    "#Regressor\n",
    "from sklearn.svm import LinearSVR\n",
    "from sklearn.svm import SVR\n",
    "\n",
    "from sklearn.metrics import accuracy_score, confusion_matrix, classification_report\n",
    "\n",
    "from sklearn.model_selection import cross_val_score ,learning_curve ,GridSearchCV\n",
    "from sklearn_evaluation import plot\n",
    "\n",
    "from sklearn.pipeline import Pipeline\n",
    "from sklearn.compose import ColumnTransformer\n",
    "from sklearn.preprocessing import StandardScaler, OrdinalEncoder, OneHotEncoder\n",
    "\n",
    "from sklearn.ensemble import RandomForestClassifier\n",
    "\n",
    "\n",
    "from sklearn.pipeline import make_pipeline\n",
    "from sklearn.kernel_approximation import RBFSampler\n",
    "\n",
    "\n",
    "\n",
    "# chemin pour le fichier py avec les foncitons\n",
    "sys.path.append(os.path.abspath(os.path.join(os.getcwd(), \"..\")))\n",
    "\n",
    "from utils import detect_variable_types, winsorize_data"
   ]
  },
  {
   "cell_type": "code",
   "execution_count": 2,
   "id": "b7990420",
   "metadata": {},
   "outputs": [],
   "source": [
    "os.getcwd()\n",
    "\n",
    "#dossier src/ au path\n",
    "src_path = Path.cwd().parent / \"src\"\n",
    "data_path = Path.cwd().parent / \"data\"\n",
    "\n",
    "# récupereation des données \n",
    "\n",
    "df = pd.read_csv( data_path / \"df_clean.csv\")"
   ]
  },
  {
   "cell_type": "markdown",
   "id": "6261d38c",
   "metadata": {},
   "source": [
    "## Modélisation binaire\n"
   ]
  },
  {
   "cell_type": "code",
   "execution_count": 3,
   "id": "a23b8f8b",
   "metadata": {},
   "outputs": [
    {
     "data": {
      "application/vnd.microsoft.datawrangler.viewer.v0+json": {
       "columns": [
        {
         "name": "index",
         "rawType": "int64",
         "type": "integer"
        },
        {
         "name": "age",
         "rawType": "int64",
         "type": "integer"
        },
        {
         "name": "height(cm)",
         "rawType": "int64",
         "type": "integer"
        },
        {
         "name": "weight(kg)",
         "rawType": "int64",
         "type": "integer"
        },
        {
         "name": "waist(cm)",
         "rawType": "float64",
         "type": "float"
        },
        {
         "name": "eyesight(left)",
         "rawType": "float64",
         "type": "float"
        },
        {
         "name": "eyesight(right)",
         "rawType": "float64",
         "type": "float"
        },
        {
         "name": "systolic",
         "rawType": "float64",
         "type": "float"
        },
        {
         "name": "relaxation",
         "rawType": "float64",
         "type": "float"
        },
        {
         "name": "fasting_blood_sugar",
         "rawType": "float64",
         "type": "float"
        },
        {
         "name": "Cholesterol",
         "rawType": "float64",
         "type": "float"
        },
        {
         "name": "triglyceride",
         "rawType": "float64",
         "type": "float"
        },
        {
         "name": "HDL",
         "rawType": "float64",
         "type": "float"
        },
        {
         "name": "LDL",
         "rawType": "float64",
         "type": "float"
        },
        {
         "name": "hemoglobin",
         "rawType": "float64",
         "type": "float"
        },
        {
         "name": "Urine_protein",
         "rawType": "float64",
         "type": "float"
        },
        {
         "name": "serum_creatinine",
         "rawType": "float64",
         "type": "float"
        },
        {
         "name": "AST",
         "rawType": "float64",
         "type": "float"
        },
        {
         "name": "ALT",
         "rawType": "float64",
         "type": "float"
        },
        {
         "name": "Gtp",
         "rawType": "float64",
         "type": "float"
        },
        {
         "name": "dental_caries",
         "rawType": "bool",
         "type": "boolean"
        },
        {
         "name": "tartar",
         "rawType": "bool",
         "type": "boolean"
        },
        {
         "name": "smoking",
         "rawType": "bool",
         "type": "boolean"
        },
        {
         "name": "homme",
         "rawType": "bool",
         "type": "boolean"
        },
        {
         "name": "pb_hearing(left)",
         "rawType": "bool",
         "type": "boolean"
        },
        {
         "name": "pb_hearing(right)",
         "rawType": "bool",
         "type": "boolean"
        }
       ],
       "conversionMethod": "pd.DataFrame",
       "ref": "cc43c790-ba3f-447a-a17b-e2b8d898819d",
       "rows": [
        [
         "0",
         "40",
         "155",
         "60",
         "81.3",
         "1.2",
         "1.0",
         "114.0",
         "73.0",
         "94.0",
         "215.0",
         "82.0",
         "73.0",
         "126.0",
         "12.9",
         "1.0",
         "0.7",
         "18.0",
         "19.0",
         "27.0",
         "False",
         "True",
         "False",
         "False",
         "False",
         "False"
        ],
        [
         "1",
         "40",
         "160",
         "60",
         "81.0",
         "0.8",
         "0.6",
         "119.0",
         "70.0",
         "130.0",
         "192.0",
         "115.0",
         "42.0",
         "127.0",
         "12.7",
         "1.0",
         "0.6",
         "22.0",
         "19.0",
         "18.0",
         "False",
         "True",
         "False",
         "False",
         "False",
         "False"
        ],
        [
         "2",
         "55",
         "170",
         "60",
         "80.0",
         "0.8",
         "0.8",
         "138.0",
         "86.0",
         "89.0",
         "242.0",
         "182.0",
         "55.0",
         "151.0",
         "15.8",
         "1.0",
         "1.0",
         "21.0",
         "16.0",
         "22.0",
         "False",
         "False",
         "True",
         "True",
         "False",
         "False"
        ],
        [
         "3",
         "40",
         "165",
         "70",
         "88.0",
         "1.5",
         "1.5",
         "100.0",
         "60.0",
         "96.0",
         "322.0",
         "254.0",
         "45.0",
         "226.0",
         "14.7",
         "1.0",
         "1.0",
         "19.0",
         "26.0",
         "18.0",
         "False",
         "True",
         "False",
         "True",
         "False",
         "False"
        ],
        [
         "4",
         "40",
         "155",
         "60",
         "86.0",
         "1.0",
         "1.0",
         "120.0",
         "74.0",
         "80.0",
         "184.0",
         "74.0",
         "62.0",
         "107.0",
         "12.5",
         "1.0",
         "0.6",
         "16.0",
         "14.0",
         "22.0",
         "False",
         "False",
         "False",
         "False",
         "False",
         "False"
        ]
       ],
       "shape": {
        "columns": 25,
        "rows": 5
       }
      },
      "text/html": [
       "<div>\n",
       "<style scoped>\n",
       "    .dataframe tbody tr th:only-of-type {\n",
       "        vertical-align: middle;\n",
       "    }\n",
       "\n",
       "    .dataframe tbody tr th {\n",
       "        vertical-align: top;\n",
       "    }\n",
       "\n",
       "    .dataframe thead th {\n",
       "        text-align: right;\n",
       "    }\n",
       "</style>\n",
       "<table border=\"1\" class=\"dataframe\">\n",
       "  <thead>\n",
       "    <tr style=\"text-align: right;\">\n",
       "      <th></th>\n",
       "      <th>age</th>\n",
       "      <th>height(cm)</th>\n",
       "      <th>weight(kg)</th>\n",
       "      <th>waist(cm)</th>\n",
       "      <th>eyesight(left)</th>\n",
       "      <th>eyesight(right)</th>\n",
       "      <th>systolic</th>\n",
       "      <th>relaxation</th>\n",
       "      <th>fasting_blood_sugar</th>\n",
       "      <th>Cholesterol</th>\n",
       "      <th>...</th>\n",
       "      <th>serum_creatinine</th>\n",
       "      <th>AST</th>\n",
       "      <th>ALT</th>\n",
       "      <th>Gtp</th>\n",
       "      <th>dental_caries</th>\n",
       "      <th>tartar</th>\n",
       "      <th>smoking</th>\n",
       "      <th>homme</th>\n",
       "      <th>pb_hearing(left)</th>\n",
       "      <th>pb_hearing(right)</th>\n",
       "    </tr>\n",
       "  </thead>\n",
       "  <tbody>\n",
       "    <tr>\n",
       "      <th>0</th>\n",
       "      <td>40</td>\n",
       "      <td>155</td>\n",
       "      <td>60</td>\n",
       "      <td>81.3</td>\n",
       "      <td>1.2</td>\n",
       "      <td>1.0</td>\n",
       "      <td>114.0</td>\n",
       "      <td>73.0</td>\n",
       "      <td>94.0</td>\n",
       "      <td>215.0</td>\n",
       "      <td>...</td>\n",
       "      <td>0.7</td>\n",
       "      <td>18.0</td>\n",
       "      <td>19.0</td>\n",
       "      <td>27.0</td>\n",
       "      <td>False</td>\n",
       "      <td>True</td>\n",
       "      <td>False</td>\n",
       "      <td>False</td>\n",
       "      <td>False</td>\n",
       "      <td>False</td>\n",
       "    </tr>\n",
       "    <tr>\n",
       "      <th>1</th>\n",
       "      <td>40</td>\n",
       "      <td>160</td>\n",
       "      <td>60</td>\n",
       "      <td>81.0</td>\n",
       "      <td>0.8</td>\n",
       "      <td>0.6</td>\n",
       "      <td>119.0</td>\n",
       "      <td>70.0</td>\n",
       "      <td>130.0</td>\n",
       "      <td>192.0</td>\n",
       "      <td>...</td>\n",
       "      <td>0.6</td>\n",
       "      <td>22.0</td>\n",
       "      <td>19.0</td>\n",
       "      <td>18.0</td>\n",
       "      <td>False</td>\n",
       "      <td>True</td>\n",
       "      <td>False</td>\n",
       "      <td>False</td>\n",
       "      <td>False</td>\n",
       "      <td>False</td>\n",
       "    </tr>\n",
       "    <tr>\n",
       "      <th>2</th>\n",
       "      <td>55</td>\n",
       "      <td>170</td>\n",
       "      <td>60</td>\n",
       "      <td>80.0</td>\n",
       "      <td>0.8</td>\n",
       "      <td>0.8</td>\n",
       "      <td>138.0</td>\n",
       "      <td>86.0</td>\n",
       "      <td>89.0</td>\n",
       "      <td>242.0</td>\n",
       "      <td>...</td>\n",
       "      <td>1.0</td>\n",
       "      <td>21.0</td>\n",
       "      <td>16.0</td>\n",
       "      <td>22.0</td>\n",
       "      <td>False</td>\n",
       "      <td>False</td>\n",
       "      <td>True</td>\n",
       "      <td>True</td>\n",
       "      <td>False</td>\n",
       "      <td>False</td>\n",
       "    </tr>\n",
       "    <tr>\n",
       "      <th>3</th>\n",
       "      <td>40</td>\n",
       "      <td>165</td>\n",
       "      <td>70</td>\n",
       "      <td>88.0</td>\n",
       "      <td>1.5</td>\n",
       "      <td>1.5</td>\n",
       "      <td>100.0</td>\n",
       "      <td>60.0</td>\n",
       "      <td>96.0</td>\n",
       "      <td>322.0</td>\n",
       "      <td>...</td>\n",
       "      <td>1.0</td>\n",
       "      <td>19.0</td>\n",
       "      <td>26.0</td>\n",
       "      <td>18.0</td>\n",
       "      <td>False</td>\n",
       "      <td>True</td>\n",
       "      <td>False</td>\n",
       "      <td>True</td>\n",
       "      <td>False</td>\n",
       "      <td>False</td>\n",
       "    </tr>\n",
       "    <tr>\n",
       "      <th>4</th>\n",
       "      <td>40</td>\n",
       "      <td>155</td>\n",
       "      <td>60</td>\n",
       "      <td>86.0</td>\n",
       "      <td>1.0</td>\n",
       "      <td>1.0</td>\n",
       "      <td>120.0</td>\n",
       "      <td>74.0</td>\n",
       "      <td>80.0</td>\n",
       "      <td>184.0</td>\n",
       "      <td>...</td>\n",
       "      <td>0.6</td>\n",
       "      <td>16.0</td>\n",
       "      <td>14.0</td>\n",
       "      <td>22.0</td>\n",
       "      <td>False</td>\n",
       "      <td>False</td>\n",
       "      <td>False</td>\n",
       "      <td>False</td>\n",
       "      <td>False</td>\n",
       "      <td>False</td>\n",
       "    </tr>\n",
       "  </tbody>\n",
       "</table>\n",
       "<p>5 rows × 25 columns</p>\n",
       "</div>"
      ],
      "text/plain": [
       "   age  height(cm)  weight(kg)  waist(cm)  eyesight(left)  eyesight(right)  \\\n",
       "0   40         155          60       81.3             1.2              1.0   \n",
       "1   40         160          60       81.0             0.8              0.6   \n",
       "2   55         170          60       80.0             0.8              0.8   \n",
       "3   40         165          70       88.0             1.5              1.5   \n",
       "4   40         155          60       86.0             1.0              1.0   \n",
       "\n",
       "   systolic  relaxation  fasting_blood_sugar  Cholesterol  ...  \\\n",
       "0     114.0        73.0                 94.0        215.0  ...   \n",
       "1     119.0        70.0                130.0        192.0  ...   \n",
       "2     138.0        86.0                 89.0        242.0  ...   \n",
       "3     100.0        60.0                 96.0        322.0  ...   \n",
       "4     120.0        74.0                 80.0        184.0  ...   \n",
       "\n",
       "   serum_creatinine   AST   ALT   Gtp  dental_caries  tartar  smoking  homme  \\\n",
       "0               0.7  18.0  19.0  27.0          False    True    False  False   \n",
       "1               0.6  22.0  19.0  18.0          False    True    False  False   \n",
       "2               1.0  21.0  16.0  22.0          False   False     True   True   \n",
       "3               1.0  19.0  26.0  18.0          False    True    False   True   \n",
       "4               0.6  16.0  14.0  22.0          False   False    False  False   \n",
       "\n",
       "   pb_hearing(left)  pb_hearing(right)  \n",
       "0             False              False  \n",
       "1             False              False  \n",
       "2             False              False  \n",
       "3             False              False  \n",
       "4             False              False  \n",
       "\n",
       "[5 rows x 25 columns]"
      ]
     },
     "execution_count": 3,
     "metadata": {},
     "output_type": "execute_result"
    }
   ],
   "source": [
    "df.head()"
   ]
  },
  {
   "cell_type": "markdown",
   "id": "34ba7cd3",
   "metadata": {},
   "source": [
    "## Coréction des types \n",
    "\n"
   ]
  },
  {
   "cell_type": "code",
   "execution_count": 4,
   "id": "f01f9460",
   "metadata": {},
   "outputs": [
    {
     "name": "stdout",
     "output_type": "stream",
     "text": [
      " Variables numériques : ['age', 'height(cm)', 'weight(kg)', 'waist(cm)', 'eyesight(left)', 'eyesight(right)', 'systolic', 'relaxation', 'fasting_blood_sugar', 'Cholesterol', 'triglyceride', 'HDL', 'LDL', 'hemoglobin', 'Urine_protein', 'serum_creatinine', 'AST', 'ALT', 'Gtp']\n",
      " Variables catégorielles : []\n",
      " Variables booléennes : ['dental_caries', 'tartar', 'smoking', 'homme', 'pb_hearing(left)', 'pb_hearing(right)']\n"
     ]
    }
   ],
   "source": [
    "types = detect_variable_types(df)\n",
    "\n",
    "print(\" Variables numériques :\", types[\"numerical\"])\n",
    "print(\" Variables catégorielles :\", types[\"categorical\"])\n",
    "print(\" Variables booléennes :\", types[\"boolean\"])"
   ]
  },
  {
   "cell_type": "markdown",
   "id": "e0d5c59d",
   "metadata": {},
   "source": [
    "Lors du rechargement du fichier CSV dans le notebook de modélisation, les types de variables doivent être explicitement restaurés. \n",
    "En effet, le format CSV ne conserve pas les métadonnées de type comme les booléens ou les catégories ordonnées.  \n",
    "Nous allons donc recasté manuellement certaines colonnes (`Urine_protein` en catégorie ordonnée, les variables booléennes en `bool`) pour garantir la cohérence de l’analyse."
   ]
  },
  {
   "cell_type": "code",
   "execution_count": 5,
   "id": "5d2a1d84",
   "metadata": {},
   "outputs": [],
   "source": [
    "df[\"Urine_protein\"] = pd.Categorical(df[\"Urine_protein\"], \n",
    "                                     categories=[1.0, 2.0, 3.0, 4.0, 5.0, 6.0], \n",
    "                                     ordered=True)\n",
    "\n",
    "for col in [\"dental_caries\", \"tartar\", \"homme\", \"pb_hearing(left)\", \"pb_hearing(right)\"]:\n",
    "    df[col] = df[col].astype(bool)\n"
   ]
  },
  {
   "cell_type": "markdown",
   "id": "009a4a4a",
   "metadata": {},
   "source": [
    "On sépare les variables par type pour appliquer un traitement adapté à chacune (standardisation pour les numériques, encodage pour les catégorielles, etc). Cette étape est aussi importante  pour pouvoir construire un pipeline"
   ]
  },
  {
   "cell_type": "code",
   "execution_count": 6,
   "id": "5a164a3f",
   "metadata": {},
   "outputs": [],
   "source": [
    "num_cols = types[\"numerical\"]\n",
    "bool_cols = types[\"boolean\"]\n",
    "ordinal_col = ['Urine_protein']\n",
    "\n",
    "num_cols.remove(\"Urine_protein\")\n",
    "bool_cols.remove(\"smoking\")"
   ]
  },
  {
   "cell_type": "markdown",
   "id": "135fea1d",
   "metadata": {},
   "source": [
    "On extrait les variables explicatives (X) et la variable cible (y). On s’assure que la cible ne soit jamais utilisée dans les transformations pour éviter toute fuite de données (data leakage)"
   ]
  },
  {
   "cell_type": "code",
   "execution_count": 7,
   "id": "b9a1bee0",
   "metadata": {},
   "outputs": [],
   "source": [
    "X = df[num_cols +  bool_cols + ordinal_col]\n",
    "y = df[\"smoking\"]"
   ]
  },
  {
   "cell_type": "markdown",
   "id": "57db3a63",
   "metadata": {},
   "source": [
    "## data set en train et test\n",
    "On sépare les données en ensemble d'entraînement (80%) et de test (20%) pour pouvoir évaluer la performance finale des modèles sur des données jamais vues"
   ]
  },
  {
   "cell_type": "code",
   "execution_count": 9,
   "id": "06447531",
   "metadata": {},
   "outputs": [],
   "source": [
    "X_train , X_test, y_train, y_test = train_test_split(X, y, \n",
    "                                                    test_size=0.2 ,\n",
    "                                                    shuffle=True ,\n",
    "                                                    random_state=42\n",
    "                                                   )"
   ]
  },
  {
   "cell_type": "code",
   "execution_count": 11,
   "id": "c7549491",
   "metadata": {},
   "outputs": [
    {
     "data": {
      "text/plain": [
       "smoking\n",
       "False    28210\n",
       "True     16343\n",
       "Name: count, dtype: int64"
      ]
     },
     "execution_count": 11,
     "metadata": {},
     "output_type": "execute_result"
    }
   ],
   "source": [
    "y_train.value_counts()"
   ]
  },
  {
   "cell_type": "code",
   "execution_count": 12,
   "id": "301f731b",
   "metadata": {},
   "outputs": [
    {
     "data": {
      "text/plain": [
       "smoking\n",
       "False    7027\n",
       "True     4112\n",
       "Name: count, dtype: int64"
      ]
     },
     "execution_count": 12,
     "metadata": {},
     "output_type": "execute_result"
    }
   ],
   "source": [
    "y_test.value_counts()"
   ]
  },
  {
   "cell_type": "markdown",
   "id": "61d8cdb6",
   "metadata": {},
   "source": [
    "## Winsorization \n",
    "\n",
    "Certaines variables numériques présentaient des valeurs manifestement aberrantes ou extrêmement éloignées du reste de la distribution (par exemple ALT > 2900, LDL > 1800 ou créatinine > 11), pouvant fortement influencer l'apprentissage des modèles. Pour limiter l’effet de ces outliers sans supprimer d’observations, nous avons appliqué une winsorisation à 1%–99% sur les variables concernées. Ce choix permet de réduire l’impact des extrêmes tout en conservant la structure générale des données. Les colonnes sélectionnées l’ont été sur la base d’une analyse des statistiques descriptives et de la distribution de chaque variable."
   ]
  },
  {
   "cell_type": "code",
   "execution_count": null,
   "id": "93e51bd8",
   "metadata": {},
   "outputs": [
    {
     "name": "stdout",
     "output_type": "stream",
     "text": [
      " winsorization de la variable : age\n",
      " winsorization de la variable : height(cm)\n",
      " winsorization de la variable : weight(kg)\n",
      " winsorization de la variable : waist(cm)\n",
      " winsorization de la variable : eyesight(left)\n",
      " winsorization de la variable : eyesight(right)\n",
      " winsorization de la variable : systolic\n",
      " winsorization de la variable : relaxation\n",
      " winsorization de la variable : fasting_blood_sugar\n",
      " winsorization de la variable : Cholesterol\n",
      " winsorization de la variable : triglyceride\n",
      " winsorization de la variable : HDL\n",
      " winsorization de la variable : LDL\n",
      " winsorization de la variable : hemoglobin\n",
      " winsorization de la variable : serum_creatinine\n",
      " winsorization de la variable : AST\n",
      " winsorization de la variable : ALT\n",
      " winsorization de la variable : Gtp\n"
     ]
    }
   ],
   "source": [
    "columns_to_winsorize = [\n",
    "    'ALT', 'AST', 'Gtp', 'serum_creatinine',\n",
    "    'LDL', 'HDL', 'triglyceride', 'Cholesterol',\n",
    "    'fasting_blood_sugar', 'systolic', 'relaxation', 'hemoglobin'\n",
    "]\n",
    "\n",
    "#Winsorize outliers\n",
    "for col in X_train[columns_to_winsorize].columns:\n",
    "    print(f\" winsorization de la variable : {col}\") \n",
    "    X_train[col], X_test[col] = winsorize_data(xtrain= X_train, xtest= X_test, feature=col)"
   ]
  },
  {
   "cell_type": "markdown",
   "id": "b4f2ae87",
   "metadata": {},
   "source": [
    "### Pipeline de préparation des données\n",
    "\n",
    "**Standardisation des variables numériques**\n",
    "\n",
    "**Encodage ordinal de la variable Urine_protein**\n",
    "\n",
    "**Passage direct des variables booléennes**\n"
   ]
  },
  {
   "cell_type": "markdown",
   "id": "3f2a48a4",
   "metadata": {},
   "source": [
    "ColumnTransformer permet d’appliquer des transformations spécifiques à chaque type de variable. Et la Pipeline regroupe toutes les étapes de prétraitement"
   ]
  },
  {
   "cell_type": "code",
   "execution_count": 15,
   "id": "77490537",
   "metadata": {},
   "outputs": [],
   "source": [
    "\n",
    "preprocessor = ColumnTransformer([\n",
    "    ('num', StandardScaler(), num_cols),\n",
    "    ('ord', OrdinalEncoder(), ordinal_col),\n",
    "    ('bool', 'passthrough', bool_cols)\n",
    "])\n",
    "\n",
    "pipeline = Pipeline([\n",
    "    ('preprocessing', preprocessor)\n",
    "])\n"
   ]
  },
  {
   "cell_type": "markdown",
   "id": "8d65aaeb",
   "metadata": {},
   "source": [
    "### Fit-transform sur X_train\n",
    "On ajuste le prétraitement sur le train (fit_transform), puis on applique exactement le même traitement au test (transform), ce qui garantit cohérence et absence de fuite"
   ]
  },
  {
   "cell_type": "code",
   "execution_count": 16,
   "id": "e7f3a11b",
   "metadata": {},
   "outputs": [],
   "source": [
    "# Fit + transformation\n",
    "X_train_prepared = pipeline.fit_transform(X_train)\n",
    "X_test_prepared = pipeline.transform(X_test)\n",
    "\n"
   ]
  },
  {
   "cell_type": "markdown",
   "id": "ffb2edf6",
   "metadata": {},
   "source": [
    "On récupère les noms des colonnes créées par le OneHotEncoder pour pouvoir interpréter les données transformées et analyser les coefficients des modèles"
   ]
  },
  {
   "cell_type": "code",
   "execution_count": 18,
   "id": "70747089",
   "metadata": {},
   "outputs": [],
   "source": [
    "# Création du nom des colonnes\n",
    "# Les colonnes ordinales gardent leur nom\n",
    "all_columns = num_cols + ordinal_col + bool_cols\n",
    "\n",
    "# Reconstruction des DataFrames\n",
    "X_train_df = pd.DataFrame(X_train_prepared, columns=all_columns, index=X_train.index)\n",
    "X_test_df = pd.DataFrame(X_test_prepared, columns=all_columns, index=X_test.index)\n"
   ]
  },
  {
   "cell_type": "markdown",
   "id": "1b6772f2",
   "metadata": {},
   "source": [
    "## Modeles\n",
    "On choisit trois modèles de nature différente : linéaire, non-linéaire à noyau, et arbre aléatoire pour capturer différentes structures dans les données et les comparer"
   ]
  },
  {
   "cell_type": "code",
   "execution_count": 19,
   "id": "83464dff",
   "metadata": {},
   "outputs": [],
   "source": [
    "\n",
    "models = {\n",
    "    \"Logistic Regression\": LogisticRegression(max_iter=1000, random_state=42),\n",
    "    \n",
    "    \"Linear SVM (LinearSVC)\": LinearSVC(max_iter=2000, random_state=42),\n",
    "\n",
    "    \"Linear SVC (SVC)\": SVC(kernel='linear', random_state=42),\n",
    "\n",
    "    \"SVM (RBF)\": SVC(kernel='rbf', C=1, gamma=0.1, random_state=42),\n",
    "\n",
    "    \"SVM Polynomial (degree=2)\": SVC(kernel='poly', degree=2, random_state=42), \n",
    "\n",
    "    \"SVM Approximated RBF\": make_pipeline(\n",
    "        RBFSampler(gamma=0.1, n_components=500, random_state=42),\n",
    "        SGDClassifier(loss='hinge', random_state=42)\n",
    "    ),\n",
    "    \n",
    "    \"Random Forest\": RandomForestClassifier(n_estimators=100, random_state=42),\n",
    "    \n",
    "    \"SGD Classifier (hinge)\": SGDClassifier(loss='hinge', random_state=42)\n",
    "}\n"
   ]
  },
  {
   "cell_type": "markdown",
   "id": "4b629413",
   "metadata": {},
   "source": [
    "On entraîne chaque modèle, puis on calcule l’accuracy sur train, test, et en validation croisée, pour juger à la fois de la performance et de la robustesse du modèle"
   ]
  },
  {
   "cell_type": "code",
   "execution_count": null,
   "id": "1c691900",
   "metadata": {},
   "outputs": [
    {
     "name": "stdout",
     "output_type": "stream",
     "text": [
      " Logistic Regression\n",
      " - Accuracy Train : 0.753\n",
      " - Accuracy Test  : 0.744\n",
      " - Cross-val mean : 0.753 | std : 0.005\n",
      "---\n",
      " Linear SVM (LinearSVC)\n",
      " - Accuracy Train : 0.754\n",
      " - Accuracy Test  : 0.743\n",
      " - Cross-val mean : 0.753 | std : 0.006\n",
      "---\n",
      " Linear SVC (SVC)\n",
      " - Accuracy Train : 0.752\n",
      " - Accuracy Test  : 0.744\n",
      " - Cross-val mean : 0.751 | std : 0.004\n",
      "---\n"
     ]
    }
   ],
   "source": [
    "# Boucle d'entraînement et évaluation\n",
    "\n",
    "results = {}\n",
    "\n",
    "for name, model in models.items():\n",
    "    model.fit(X_train_df, y_train)\n",
    "    acc_train = accuracy_score(y_train, model.predict(X_train_df))\n",
    "    acc_test = accuracy_score(y_test, model.predict(X_test_df))\n",
    "    cv_scores = cross_val_score(model, X_train_df, y_train, cv=5)\n",
    "    \n",
    "    print(f\" {name}\")\n",
    "    print(f\" - Accuracy Train : {acc_train:.3f}\")\n",
    "    print(f\" - Accuracy Test  : {acc_test:.3f}\")\n",
    "    print(f\" - Cross-val mean : {cv_scores.mean():.3f} | std : {cv_scores.std():.3f}\")\n",
    "    print(\"---\")\n",
    "    \n",
    "    results[name] = {\n",
    "        \"train\": acc_train,\n",
    "        \"test\": acc_test,\n",
    "        \"cv_mean\": cv_scores.mean(),\n",
    "        \"cv_std\": cv_scores.std()\n",
    "    }\n",
    "\n"
   ]
  },
  {
   "cell_type": "markdown",
   "id": "7346cb9a",
   "metadata": {},
   "source": [
    "On examine les coefficients pour interpréter les effets des variables sur la probabilité de risque, ce qui nous permet de mieux  comprendre le comportement du modèle linéaire"
   ]
  },
  {
   "cell_type": "code",
   "execution_count": null,
   "id": "c46b9a42",
   "metadata": {},
   "outputs": [],
   "source": [
    "# Coefficients régression logistique\n",
    "lr_model = models[\"Logistic Regression\"]\n",
    "coefs = pd.Series(lr_model.coef_[0], index=all_columns)\n",
    "print(\"\\n Coefficients de la régression logistique :\")\n",
    "print(coefs.sort_values(key=abs, ascending=False).round(3))"
   ]
  }
 ],
 "metadata": {
  "kernelspec": {
   "display_name": "Python (.venv - SVM)",
   "language": "python",
   "name": "venv-svm"
  },
  "language_info": {
   "codemirror_mode": {
    "name": "ipython",
    "version": 3
   },
   "file_extension": ".py",
   "mimetype": "text/x-python",
   "name": "python",
   "nbconvert_exporter": "python",
   "pygments_lexer": "ipython3",
   "version": "3.9.6"
  }
 },
 "nbformat": 4,
 "nbformat_minor": 5
}
