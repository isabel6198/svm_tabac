{
 "cells": [
  {
   "cell_type": "code",
   "execution_count": 41,
   "id": "13c875ec",
   "metadata": {},
   "outputs": [],
   "source": [
    "import sys\n",
    "import os\n",
    "import pandas as pd\n",
    "import numpy as np\n",
    "\n",
    "import matplotlib.pyplot as plt\n",
    "from sklearn import datasets\n",
    "from pathlib import Path\n",
    "\n",
    "\n",
    "#sklearn\n",
    "from sklearn.preprocessing import PolynomialFeatures\n",
    "from sklearn.model_selection import train_test_split\n",
    "\n",
    "#Classifier\n",
    "from sklearn.svm import SVC, LinearSVC\n",
    "from sklearn.linear_model import SGDClassifier , LogisticRegression\n",
    "from sklearn.ensemble import RandomForestClassifier, GradientBoostingClassifier\n",
    "#from xgboost import XGBClassifier\n",
    "\n",
    "\n",
    "from sklearn.svm import LinearSVR\n",
    "from sklearn.svm import SVR\n",
    "\n",
    "from sklearn.metrics import accuracy_score, confusion_matrix, classification_report, precision_score, recall_score, f1_score\n",
    "\n",
    "from sklearn.model_selection import cross_val_score ,learning_curve ,GridSearchCV\n",
    "from sklearn_evaluation import plot\n",
    "\n",
    "from sklearn.pipeline import Pipeline\n",
    "from sklearn.compose import ColumnTransformer\n",
    "from sklearn.preprocessing import StandardScaler, OrdinalEncoder, OneHotEncoder\n",
    "\n",
    "from sklearn.ensemble import RandomForestClassifier\n",
    "from imblearn.under_sampling import RandomUnderSampler\n",
    "\n",
    "\n",
    "from sklearn.pipeline import make_pipeline\n",
    "from sklearn.kernel_approximation import RBFSampler\n",
    "from sklearn.feature_selection import SelectFromModel\n",
    "\n",
    "\n",
    "import warnings\n",
    "warnings.filterwarnings('ignore')\n",
    "\n",
    "\n",
    "# chemin pour le fichier py avec les foncitons\n",
    "sys.path.append(os.path.abspath(os.path.join(os.getcwd(), \"..\")))\n",
    "\n",
    "\n",
    "# fonctions dans le fichier py \n",
    "from utils import detect_variable_types, winsorize_data"
   ]
  },
  {
   "cell_type": "code",
   "execution_count": 20,
   "id": "b7990420",
   "metadata": {},
   "outputs": [
    {
     "name": "stdout",
     "output_type": "stream",
     "text": [
      "(44552, 25)\n"
     ]
    }
   ],
   "source": [
    "os.getcwd()\n",
    "\n",
    "#dossier src/ au path\n",
    "src_path = Path.cwd().parent / \"src\"\n",
    "data_path = Path.cwd().parent / \"data\"\n",
    "\n",
    "# récupereation des données \n",
    "\n",
    "df = pd.read_csv( data_path / \"df_clean.csv\")\n",
    "print(df.shape)"
   ]
  },
  {
   "cell_type": "markdown",
   "id": "6261d38c",
   "metadata": {},
   "source": [
    "## Modélisation binaire\n"
   ]
  },
  {
   "cell_type": "code",
   "execution_count": 21,
   "id": "a23b8f8b",
   "metadata": {},
   "outputs": [
    {
     "data": {
      "application/vnd.microsoft.datawrangler.viewer.v0+json": {
       "columns": [
        {
         "name": "index",
         "rawType": "int64",
         "type": "integer"
        },
        {
         "name": "age",
         "rawType": "int64",
         "type": "integer"
        },
        {
         "name": "height(cm)",
         "rawType": "int64",
         "type": "integer"
        },
        {
         "name": "weight(kg)",
         "rawType": "int64",
         "type": "integer"
        },
        {
         "name": "waist(cm)",
         "rawType": "float64",
         "type": "float"
        },
        {
         "name": "eyesight(left)",
         "rawType": "float64",
         "type": "float"
        },
        {
         "name": "eyesight(right)",
         "rawType": "float64",
         "type": "float"
        },
        {
         "name": "systolic",
         "rawType": "float64",
         "type": "float"
        },
        {
         "name": "relaxation",
         "rawType": "float64",
         "type": "float"
        },
        {
         "name": "fasting_blood_sugar",
         "rawType": "float64",
         "type": "float"
        },
        {
         "name": "Cholesterol",
         "rawType": "float64",
         "type": "float"
        },
        {
         "name": "triglyceride",
         "rawType": "float64",
         "type": "float"
        },
        {
         "name": "HDL",
         "rawType": "float64",
         "type": "float"
        },
        {
         "name": "LDL",
         "rawType": "float64",
         "type": "float"
        },
        {
         "name": "hemoglobin",
         "rawType": "float64",
         "type": "float"
        },
        {
         "name": "Urine_protein",
         "rawType": "float64",
         "type": "float"
        },
        {
         "name": "serum_creatinine",
         "rawType": "float64",
         "type": "float"
        },
        {
         "name": "AST",
         "rawType": "float64",
         "type": "float"
        },
        {
         "name": "ALT",
         "rawType": "float64",
         "type": "float"
        },
        {
         "name": "Gtp",
         "rawType": "float64",
         "type": "float"
        },
        {
         "name": "dental_caries",
         "rawType": "bool",
         "type": "boolean"
        },
        {
         "name": "tartar",
         "rawType": "bool",
         "type": "boolean"
        },
        {
         "name": "smoking",
         "rawType": "bool",
         "type": "boolean"
        },
        {
         "name": "homme",
         "rawType": "bool",
         "type": "boolean"
        },
        {
         "name": "pb_hearing(left)",
         "rawType": "bool",
         "type": "boolean"
        },
        {
         "name": "pb_hearing(right)",
         "rawType": "bool",
         "type": "boolean"
        }
       ],
       "conversionMethod": "pd.DataFrame",
       "ref": "0f6ad370-da3e-4693-b80b-37c1ac9363c2",
       "rows": [
        [
         "0",
         "40",
         "155",
         "60",
         "81.3",
         "1.2",
         "1.0",
         "114.0",
         "73.0",
         "94.0",
         "215.0",
         "82.0",
         "73.0",
         "126.0",
         "12.9",
         "1.0",
         "0.7",
         "18.0",
         "19.0",
         "27.0",
         "False",
         "True",
         "False",
         "False",
         "False",
         "False"
        ],
        [
         "1",
         "40",
         "160",
         "60",
         "81.0",
         "0.8",
         "0.6",
         "119.0",
         "70.0",
         "130.0",
         "192.0",
         "115.0",
         "42.0",
         "127.0",
         "12.7",
         "1.0",
         "0.6",
         "22.0",
         "19.0",
         "18.0",
         "False",
         "True",
         "False",
         "False",
         "False",
         "False"
        ],
        [
         "2",
         "55",
         "170",
         "60",
         "80.0",
         "0.8",
         "0.8",
         "138.0",
         "86.0",
         "89.0",
         "242.0",
         "182.0",
         "55.0",
         "151.0",
         "15.8",
         "1.0",
         "1.0",
         "21.0",
         "16.0",
         "22.0",
         "False",
         "False",
         "True",
         "True",
         "False",
         "False"
        ],
        [
         "3",
         "40",
         "165",
         "70",
         "88.0",
         "1.5",
         "1.5",
         "100.0",
         "60.0",
         "96.0",
         "322.0",
         "254.0",
         "45.0",
         "226.0",
         "14.7",
         "1.0",
         "1.0",
         "19.0",
         "26.0",
         "18.0",
         "False",
         "True",
         "False",
         "True",
         "False",
         "False"
        ],
        [
         "4",
         "40",
         "155",
         "60",
         "86.0",
         "1.0",
         "1.0",
         "120.0",
         "74.0",
         "80.0",
         "184.0",
         "74.0",
         "62.0",
         "107.0",
         "12.5",
         "1.0",
         "0.6",
         "16.0",
         "14.0",
         "22.0",
         "False",
         "False",
         "False",
         "False",
         "False",
         "False"
        ]
       ],
       "shape": {
        "columns": 25,
        "rows": 5
       }
      },
      "text/html": [
       "<div>\n",
       "<style scoped>\n",
       "    .dataframe tbody tr th:only-of-type {\n",
       "        vertical-align: middle;\n",
       "    }\n",
       "\n",
       "    .dataframe tbody tr th {\n",
       "        vertical-align: top;\n",
       "    }\n",
       "\n",
       "    .dataframe thead th {\n",
       "        text-align: right;\n",
       "    }\n",
       "</style>\n",
       "<table border=\"1\" class=\"dataframe\">\n",
       "  <thead>\n",
       "    <tr style=\"text-align: right;\">\n",
       "      <th></th>\n",
       "      <th>age</th>\n",
       "      <th>height(cm)</th>\n",
       "      <th>weight(kg)</th>\n",
       "      <th>waist(cm)</th>\n",
       "      <th>eyesight(left)</th>\n",
       "      <th>eyesight(right)</th>\n",
       "      <th>systolic</th>\n",
       "      <th>relaxation</th>\n",
       "      <th>fasting_blood_sugar</th>\n",
       "      <th>Cholesterol</th>\n",
       "      <th>...</th>\n",
       "      <th>serum_creatinine</th>\n",
       "      <th>AST</th>\n",
       "      <th>ALT</th>\n",
       "      <th>Gtp</th>\n",
       "      <th>dental_caries</th>\n",
       "      <th>tartar</th>\n",
       "      <th>smoking</th>\n",
       "      <th>homme</th>\n",
       "      <th>pb_hearing(left)</th>\n",
       "      <th>pb_hearing(right)</th>\n",
       "    </tr>\n",
       "  </thead>\n",
       "  <tbody>\n",
       "    <tr>\n",
       "      <th>0</th>\n",
       "      <td>40</td>\n",
       "      <td>155</td>\n",
       "      <td>60</td>\n",
       "      <td>81.3</td>\n",
       "      <td>1.2</td>\n",
       "      <td>1.0</td>\n",
       "      <td>114.0</td>\n",
       "      <td>73.0</td>\n",
       "      <td>94.0</td>\n",
       "      <td>215.0</td>\n",
       "      <td>...</td>\n",
       "      <td>0.7</td>\n",
       "      <td>18.0</td>\n",
       "      <td>19.0</td>\n",
       "      <td>27.0</td>\n",
       "      <td>False</td>\n",
       "      <td>True</td>\n",
       "      <td>False</td>\n",
       "      <td>False</td>\n",
       "      <td>False</td>\n",
       "      <td>False</td>\n",
       "    </tr>\n",
       "    <tr>\n",
       "      <th>1</th>\n",
       "      <td>40</td>\n",
       "      <td>160</td>\n",
       "      <td>60</td>\n",
       "      <td>81.0</td>\n",
       "      <td>0.8</td>\n",
       "      <td>0.6</td>\n",
       "      <td>119.0</td>\n",
       "      <td>70.0</td>\n",
       "      <td>130.0</td>\n",
       "      <td>192.0</td>\n",
       "      <td>...</td>\n",
       "      <td>0.6</td>\n",
       "      <td>22.0</td>\n",
       "      <td>19.0</td>\n",
       "      <td>18.0</td>\n",
       "      <td>False</td>\n",
       "      <td>True</td>\n",
       "      <td>False</td>\n",
       "      <td>False</td>\n",
       "      <td>False</td>\n",
       "      <td>False</td>\n",
       "    </tr>\n",
       "    <tr>\n",
       "      <th>2</th>\n",
       "      <td>55</td>\n",
       "      <td>170</td>\n",
       "      <td>60</td>\n",
       "      <td>80.0</td>\n",
       "      <td>0.8</td>\n",
       "      <td>0.8</td>\n",
       "      <td>138.0</td>\n",
       "      <td>86.0</td>\n",
       "      <td>89.0</td>\n",
       "      <td>242.0</td>\n",
       "      <td>...</td>\n",
       "      <td>1.0</td>\n",
       "      <td>21.0</td>\n",
       "      <td>16.0</td>\n",
       "      <td>22.0</td>\n",
       "      <td>False</td>\n",
       "      <td>False</td>\n",
       "      <td>True</td>\n",
       "      <td>True</td>\n",
       "      <td>False</td>\n",
       "      <td>False</td>\n",
       "    </tr>\n",
       "    <tr>\n",
       "      <th>3</th>\n",
       "      <td>40</td>\n",
       "      <td>165</td>\n",
       "      <td>70</td>\n",
       "      <td>88.0</td>\n",
       "      <td>1.5</td>\n",
       "      <td>1.5</td>\n",
       "      <td>100.0</td>\n",
       "      <td>60.0</td>\n",
       "      <td>96.0</td>\n",
       "      <td>322.0</td>\n",
       "      <td>...</td>\n",
       "      <td>1.0</td>\n",
       "      <td>19.0</td>\n",
       "      <td>26.0</td>\n",
       "      <td>18.0</td>\n",
       "      <td>False</td>\n",
       "      <td>True</td>\n",
       "      <td>False</td>\n",
       "      <td>True</td>\n",
       "      <td>False</td>\n",
       "      <td>False</td>\n",
       "    </tr>\n",
       "    <tr>\n",
       "      <th>4</th>\n",
       "      <td>40</td>\n",
       "      <td>155</td>\n",
       "      <td>60</td>\n",
       "      <td>86.0</td>\n",
       "      <td>1.0</td>\n",
       "      <td>1.0</td>\n",
       "      <td>120.0</td>\n",
       "      <td>74.0</td>\n",
       "      <td>80.0</td>\n",
       "      <td>184.0</td>\n",
       "      <td>...</td>\n",
       "      <td>0.6</td>\n",
       "      <td>16.0</td>\n",
       "      <td>14.0</td>\n",
       "      <td>22.0</td>\n",
       "      <td>False</td>\n",
       "      <td>False</td>\n",
       "      <td>False</td>\n",
       "      <td>False</td>\n",
       "      <td>False</td>\n",
       "      <td>False</td>\n",
       "    </tr>\n",
       "  </tbody>\n",
       "</table>\n",
       "<p>5 rows × 25 columns</p>\n",
       "</div>"
      ],
      "text/plain": [
       "   age  height(cm)  weight(kg)  waist(cm)  eyesight(left)  eyesight(right)  \\\n",
       "0   40         155          60       81.3             1.2              1.0   \n",
       "1   40         160          60       81.0             0.8              0.6   \n",
       "2   55         170          60       80.0             0.8              0.8   \n",
       "3   40         165          70       88.0             1.5              1.5   \n",
       "4   40         155          60       86.0             1.0              1.0   \n",
       "\n",
       "   systolic  relaxation  fasting_blood_sugar  Cholesterol  ...  \\\n",
       "0     114.0        73.0                 94.0        215.0  ...   \n",
       "1     119.0        70.0                130.0        192.0  ...   \n",
       "2     138.0        86.0                 89.0        242.0  ...   \n",
       "3     100.0        60.0                 96.0        322.0  ...   \n",
       "4     120.0        74.0                 80.0        184.0  ...   \n",
       "\n",
       "   serum_creatinine   AST   ALT   Gtp  dental_caries  tartar  smoking  homme  \\\n",
       "0               0.7  18.0  19.0  27.0          False    True    False  False   \n",
       "1               0.6  22.0  19.0  18.0          False    True    False  False   \n",
       "2               1.0  21.0  16.0  22.0          False   False     True   True   \n",
       "3               1.0  19.0  26.0  18.0          False    True    False   True   \n",
       "4               0.6  16.0  14.0  22.0          False   False    False  False   \n",
       "\n",
       "   pb_hearing(left)  pb_hearing(right)  \n",
       "0             False              False  \n",
       "1             False              False  \n",
       "2             False              False  \n",
       "3             False              False  \n",
       "4             False              False  \n",
       "\n",
       "[5 rows x 25 columns]"
      ]
     },
     "execution_count": 21,
     "metadata": {},
     "output_type": "execute_result"
    }
   ],
   "source": [
    "df.head()"
   ]
  },
  {
   "cell_type": "markdown",
   "id": "34ba7cd3",
   "metadata": {},
   "source": [
    "## Coréction des types \n",
    "\n"
   ]
  },
  {
   "cell_type": "code",
   "execution_count": 22,
   "id": "f01f9460",
   "metadata": {},
   "outputs": [
    {
     "name": "stdout",
     "output_type": "stream",
     "text": [
      " Variables numériques : ['age', 'height(cm)', 'weight(kg)', 'waist(cm)', 'eyesight(left)', 'eyesight(right)', 'systolic', 'relaxation', 'fasting_blood_sugar', 'Cholesterol', 'triglyceride', 'HDL', 'LDL', 'hemoglobin', 'Urine_protein', 'serum_creatinine', 'AST', 'ALT', 'Gtp']\n",
      " Variables catégorielles : []\n",
      " Variables booléennes : ['dental_caries', 'tartar', 'smoking', 'homme', 'pb_hearing(left)', 'pb_hearing(right)']\n"
     ]
    }
   ],
   "source": [
    "types = detect_variable_types(df)\n",
    "\n",
    "print(\" Variables numériques :\", types[\"numerical\"])\n",
    "print(\" Variables catégorielles :\", types[\"categorical\"])\n",
    "print(\" Variables booléennes :\", types[\"boolean\"])"
   ]
  },
  {
   "cell_type": "markdown",
   "id": "e0d5c59d",
   "metadata": {},
   "source": [
    "Lors du rechargement du fichier CSV dans le notebook de modélisation, les types de variables doivent être explicitement restaurés. \n",
    "En effet, le format CSV ne conserve pas les métadonnées de type comme les booléens ou les catégories ordonnées.  \n",
    "Nous allons donc recasté manuellement certaines colonnes (`Urine_protein` en catégorie ordonnée, les variables booléennes en `bool`) pour garantir la cohérence de l’analyse."
   ]
  },
  {
   "cell_type": "code",
   "execution_count": 23,
   "id": "5d2a1d84",
   "metadata": {},
   "outputs": [],
   "source": [
    "df[\"Urine_protein\"] = pd.Categorical(df[\"Urine_protein\"], \n",
    "                                     categories=[1.0, 2.0, 3.0, 4.0, 5.0, 6.0], \n",
    "                                     ordered=True)\n",
    "\n",
    "for col in [\"dental_caries\", \"tartar\", \"homme\", \"pb_hearing(left)\", \"pb_hearing(right)\"]:\n",
    "    df[col] = df[col].astype(bool)\n"
   ]
  },
  {
   "cell_type": "markdown",
   "id": "009a4a4a",
   "metadata": {},
   "source": [
    "On sépare les variables par type pour appliquer un traitement adapté à chacune (standardisation pour les numériques, encodage pour les catégorielles, etc). Cette étape est aussi importante  pour pouvoir construire un pipeline"
   ]
  },
  {
   "cell_type": "code",
   "execution_count": 24,
   "id": "5a164a3f",
   "metadata": {},
   "outputs": [],
   "source": [
    "num_cols = types[\"numerical\"]\n",
    "bool_cols = types[\"boolean\"]\n",
    "ordinal_col = ['Urine_protein']\n",
    "\n",
    "num_cols.remove(\"Urine_protein\")\n",
    "bool_cols.remove(\"smoking\")"
   ]
  },
  {
   "cell_type": "markdown",
   "id": "135fea1d",
   "metadata": {},
   "source": [
    "On extrait les variables explicatives (X) et la variable cible (y). On s’assure que la cible ne soit jamais utilisée dans les transformations pour éviter toute fuite de données (data leakage)"
   ]
  },
  {
   "cell_type": "code",
   "execution_count": 25,
   "id": "b9a1bee0",
   "metadata": {},
   "outputs": [],
   "source": [
    "X = df[num_cols +  bool_cols + ordinal_col].copy()\n",
    "y = df[\"smoking\"].copy()"
   ]
  },
  {
   "cell_type": "markdown",
   "id": "57db3a63",
   "metadata": {},
   "source": [
    "## data set en train et test\n",
    "On sépare les données en ensemble d'entraînement (80%) et de test (20%) pour pouvoir évaluer la performance finale des modèles sur des données jamais vues"
   ]
  },
  {
   "cell_type": "code",
   "execution_count": 26,
   "id": "06447531",
   "metadata": {},
   "outputs": [],
   "source": [
    "X_train , X_test, y_train, y_test = train_test_split(X, y, \n",
    "                                                    test_size=0.2 ,\n",
    "                                                    shuffle=True ,\n",
    "                                                    random_state=42\n",
    "                                                   )"
   ]
  },
  {
   "cell_type": "code",
   "execution_count": 27,
   "id": "c7549491",
   "metadata": {},
   "outputs": [
    {
     "name": "stdout",
     "output_type": "stream",
     "text": [
      "Dimensions de X_train: (35641, 24)\n",
      "Dimensions de X_test: (8911, 24)\n",
      "Dimensions de y_train: (35641,)\n",
      "Dimensions de y_test: (8911,)\n"
     ]
    }
   ],
   "source": [
    "print(\"Dimensions de X_train:\", X_train.shape)\n",
    "print(\"Dimensions de X_test:\", X_test.shape)\n",
    "print(\"Dimensions de y_train:\", y_train.shape)\n",
    "print(\"Dimensions de y_test:\", y_test.shape)"
   ]
  },
  {
   "cell_type": "markdown",
   "id": "61d8cdb6",
   "metadata": {},
   "source": [
    "## Winsorization \n",
    "\n",
    "Certaines variables numériques présentaient des valeurs manifestement aberrantes ou extrêmement éloignées du reste de la distribution (par exemple ALT > 2900, LDL > 1800 ou créatinine > 11), pouvant fortement influencer l'apprentissage des modèles. Pour limiter l’effet de ces outliers sans supprimer d’observations, nous avons appliqué une winsorisation à 1%–99% sur les variables concernées. Ce choix permet de réduire l’impact des extrêmes tout en conservant la structure générale des données. Les colonnes sélectionnées l’ont été sur la base d’une analyse des statistiques descriptives et de la distribution de chaque variable."
   ]
  },
  {
   "cell_type": "code",
   "execution_count": 28,
   "id": "93e51bd8",
   "metadata": {},
   "outputs": [
    {
     "name": "stdout",
     "output_type": "stream",
     "text": [
      " winsorization de la variable : ALT\n",
      " winsorization de la variable : AST\n",
      " winsorization de la variable : Gtp\n",
      " winsorization de la variable : serum_creatinine\n",
      " winsorization de la variable : LDL\n",
      " winsorization de la variable : HDL\n",
      " winsorization de la variable : triglyceride\n",
      " winsorization de la variable : Cholesterol\n",
      " winsorization de la variable : fasting_blood_sugar\n",
      " winsorization de la variable : systolic\n",
      " winsorization de la variable : relaxation\n",
      " winsorization de la variable : hemoglobin\n"
     ]
    }
   ],
   "source": [
    "columns_to_winsorize = [\n",
    "    'ALT', 'AST', 'Gtp', 'serum_creatinine',\n",
    "    'LDL', 'HDL', 'triglyceride', 'Cholesterol',\n",
    "    'fasting_blood_sugar', 'systolic', 'relaxation', 'hemoglobin'\n",
    "]\n",
    "\n",
    "#Winsorize outliers\n",
    "for col in X_train[columns_to_winsorize].columns:\n",
    "    print(f\" winsorization de la variable : {col}\") \n",
    "    X_train[col], X_test[col] = winsorize_data(xtrain= X_train, xtest= X_test, feature=col)"
   ]
  },
  {
   "cell_type": "markdown",
   "id": "b4f2ae87",
   "metadata": {},
   "source": [
    "### Pipeline de préparation des données\n",
    "\n",
    "**Standardisation des variables numériques**\n",
    "\n",
    "**Encodage ordinal de la variable Urine_protein**\n",
    "\n",
    "**Passage direct des variables booléennes**\n"
   ]
  },
  {
   "cell_type": "markdown",
   "id": "3f2a48a4",
   "metadata": {},
   "source": [
    "ColumnTransformer permet d’appliquer des transformations spécifiques à chaque type de variable. Et la Pipeline regroupe toutes les étapes de prétraitement"
   ]
  },
  {
   "cell_type": "code",
   "execution_count": 29,
   "id": "77490537",
   "metadata": {},
   "outputs": [],
   "source": [
    "\n",
    "preprocessor = ColumnTransformer([\n",
    "    ('num', StandardScaler(), num_cols),\n",
    "    ('ord', OrdinalEncoder(), ordinal_col),\n",
    "    ('bool', 'passthrough', bool_cols)\n",
    "])\n",
    "\n",
    "pipeline = Pipeline([\n",
    "    ('preprocessing', preprocessor)\n",
    "])\n"
   ]
  },
  {
   "cell_type": "markdown",
   "id": "8d65aaeb",
   "metadata": {},
   "source": [
    "### Fit-transform sur X_train\n",
    "On ajuste le prétraitement sur le train (fit_transform), puis on applique exactement le même traitement au test (transform), ce qui garantit cohérence et absence de fuite"
   ]
  },
  {
   "cell_type": "code",
   "execution_count": 30,
   "id": "e7f3a11b",
   "metadata": {},
   "outputs": [],
   "source": [
    "# Fit + transformation\n",
    "X_train_prepared = pipeline.fit_transform(X_train)\n",
    "X_test_prepared = pipeline.transform(X_test)\n",
    "\n"
   ]
  },
  {
   "cell_type": "code",
   "execution_count": 31,
   "id": "70747089",
   "metadata": {},
   "outputs": [],
   "source": [
    "# Création du nom des colonnes\n",
    "# Les colonnes ordinales gardent leur nom\n",
    "all_columns = num_cols + ordinal_col + bool_cols\n",
    "\n",
    "# Reconstruction des DataFrames\n",
    "X_train_df = pd.DataFrame(X_train_prepared, columns=all_columns, index=X_train.index)\n",
    "X_test_df = pd.DataFrame(X_test_prepared, columns=all_columns, index=X_test.index)\n"
   ]
  },
  {
   "cell_type": "markdown",
   "id": "1b6772f2",
   "metadata": {},
   "source": [
    "## Modeles\n",
    "On choisit trois modèles de nature différente : linéaire, non-linéaire à noyau, et arbre aléatoire pour capturer différentes structures dans les données et les comparer"
   ]
  },
  {
   "cell_type": "code",
   "execution_count": 32,
   "id": "83464dff",
   "metadata": {},
   "outputs": [],
   "source": [
    "models = {\n",
    "    #\"Logistic Regression\": LogisticRegression(random_state=42),\n",
    "    #\"Random Forest\": RandomForestClassifier(random_state=42),\n",
    "    \"Gradient Boosting\": GradientBoostingClassifier(random_state=42),\n",
    "    #\"XGBoost\": XGBClassifier(use_label_encoder=False, eval_metric='logloss', random_state=42),\n",
    "    #\"SVC (RBF Kernel)\": SVC(kernel='rbf', random_state=42),\n",
    "    #\"SVC (Linear Kernel)\": SVC(kernel='linear', random_state=42),\n",
    "    #\"SVC (Poly Kernel)\": SVC(kernel='poly', random_state=42),\n",
    "    \"LinearSVC\": LinearSVC(max_iter=2000, random_state=42),\n",
    "    #\"SGDClassifier\": SGDClassifier(random_state=42)\n",
    "}\n"
   ]
  },
  {
   "cell_type": "markdown",
   "id": "4b629413",
   "metadata": {},
   "source": [
    "On entraîne chaque modèle, puis on calcule l’accuracy sur train, test, et en validation croisée, pour juger à la fois de la performance et de la robustesse du modèle"
   ]
  },
  {
   "cell_type": "code",
   "execution_count": 33,
   "id": "1c691900",
   "metadata": {},
   "outputs": [
    {
     "name": "stdout",
     "output_type": "stream",
     "text": [
      "\n",
      "========================================\n",
      " Modèle : Gradient Boosting\n",
      "========================================\n",
      "Paramètres utilisés : {'ccp_alpha': 0.0, 'criterion': 'friedman_mse', 'init': None, 'learning_rate': 0.1, 'loss': 'log_loss', 'max_depth': 3, 'max_features': None, 'max_leaf_nodes': None, 'min_impurity_decrease': 0.0, 'min_samples_leaf': 1, 'min_samples_split': 2, 'min_weight_fraction_leaf': 0.0, 'n_estimators': 100, 'n_iter_no_change': None, 'random_state': 42, 'subsample': 1.0, 'tol': 0.0001, 'validation_fraction': 0.1, 'verbose': 0, 'warm_start': False}\n",
      "\n",
      " Résultats sur Train :\n",
      " Accuracy       : 0.7714\n",
      " Taux d'erreur  : 0.2286\n",
      " Précision      : 0.6760\n",
      " Recall         : 0.7245\n",
      " F1-score       : 0.6994\n",
      " Matrice de confusion :\n",
      "[[18010  4544]\n",
      " [ 3605  9482]]\n",
      "\n",
      " Résultats sur Test :\n",
      " Accuracy       : 0.7632\n",
      " Taux d'erreur  : 0.2368\n",
      " Précision      : 0.6637\n",
      " Recall         : 0.7170\n",
      " F1-score       : 0.6893\n",
      " Matrice de confusion :\n",
      "[[4460 1186]\n",
      " [ 924 2341]]\n",
      "\n",
      "========================================\n",
      " Modèle : LinearSVC\n",
      "========================================\n",
      "Paramètres utilisés : {'C': 1.0, 'class_weight': None, 'dual': 'auto', 'fit_intercept': True, 'intercept_scaling': 1, 'loss': 'squared_hinge', 'max_iter': 2000, 'multi_class': 'ovr', 'penalty': 'l2', 'random_state': 42, 'tol': 0.0001, 'verbose': 0}\n",
      "\n",
      " Résultats sur Train :\n",
      " Accuracy       : 0.7465\n",
      " Taux d'erreur  : 0.2535\n",
      " Précision      : 0.6400\n",
      " Recall         : 0.7073\n",
      " F1-score       : 0.6720\n",
      " Matrice de confusion :\n",
      "[[17348  5206]\n",
      " [ 3830  9257]]\n",
      "\n",
      " Résultats sur Test :\n",
      " Accuracy       : 0.7535\n",
      " Taux d'erreur  : 0.2465\n",
      " Précision      : 0.6459\n",
      " Recall         : 0.7240\n",
      " F1-score       : 0.6827\n",
      " Matrice de confusion :\n",
      "[[4350 1296]\n",
      " [ 901 2364]]\n",
      "\n",
      " Récapitulatif des performances :\n"
     ]
    },
    {
     "data": {
      "application/vnd.microsoft.datawrangler.viewer.v0+json": {
       "columns": [
        {
         "name": "index",
         "rawType": "int64",
         "type": "integer"
        },
        {
         "name": "Modèle",
         "rawType": "object",
         "type": "string"
        },
        {
         "name": "Données",
         "rawType": "object",
         "type": "string"
        },
        {
         "name": "Accuracy",
         "rawType": "float64",
         "type": "float"
        },
        {
         "name": "Erreur",
         "rawType": "float64",
         "type": "float"
        },
        {
         "name": "Précision",
         "rawType": "float64",
         "type": "float"
        },
        {
         "name": "Recall",
         "rawType": "float64",
         "type": "float"
        },
        {
         "name": "F1-score",
         "rawType": "float64",
         "type": "float"
        }
       ],
       "conversionMethod": "pd.DataFrame",
       "ref": "c9e85b7f-02d2-4e9e-99fc-3fef49783d77",
       "rows": [
        [
         "0",
         "Gradient Boosting",
         "Train",
         "0.7713588283157038",
         "0.2286411716842962",
         "0.6760302295736489",
         "0.7245357988843891",
         "0.6994430715892745"
        ],
        [
         "1",
         "Gradient Boosting",
         "Test",
         "0.7632140051621591",
         "0.2367859948378409",
         "0.6637368868726964",
         "0.7169984686064319",
         "0.6893404004711425"
        ],
        [
         "2",
         "LinearSVC",
         "Train",
         "0.746471760051626",
         "0.25352823994837403",
         "0.6400470165249257",
         "0.7073431649728739",
         "0.6720145190562613"
        ],
        [
         "3",
         "LinearSVC",
         "Test",
         "0.753450791156997",
         "0.24654920884300302",
         "0.6459016393442623",
         "0.7240428790199082",
         "0.6827436823104693"
        ]
       ],
       "shape": {
        "columns": 7,
        "rows": 4
       }
      },
      "text/html": [
       "<div>\n",
       "<style scoped>\n",
       "    .dataframe tbody tr th:only-of-type {\n",
       "        vertical-align: middle;\n",
       "    }\n",
       "\n",
       "    .dataframe tbody tr th {\n",
       "        vertical-align: top;\n",
       "    }\n",
       "\n",
       "    .dataframe thead th {\n",
       "        text-align: right;\n",
       "    }\n",
       "</style>\n",
       "<table border=\"1\" class=\"dataframe\">\n",
       "  <thead>\n",
       "    <tr style=\"text-align: right;\">\n",
       "      <th></th>\n",
       "      <th>Modèle</th>\n",
       "      <th>Données</th>\n",
       "      <th>Accuracy</th>\n",
       "      <th>Erreur</th>\n",
       "      <th>Précision</th>\n",
       "      <th>Recall</th>\n",
       "      <th>F1-score</th>\n",
       "    </tr>\n",
       "  </thead>\n",
       "  <tbody>\n",
       "    <tr>\n",
       "      <th>0</th>\n",
       "      <td>Gradient Boosting</td>\n",
       "      <td>Train</td>\n",
       "      <td>0.771359</td>\n",
       "      <td>0.228641</td>\n",
       "      <td>0.676030</td>\n",
       "      <td>0.724536</td>\n",
       "      <td>0.699443</td>\n",
       "    </tr>\n",
       "    <tr>\n",
       "      <th>1</th>\n",
       "      <td>Gradient Boosting</td>\n",
       "      <td>Test</td>\n",
       "      <td>0.763214</td>\n",
       "      <td>0.236786</td>\n",
       "      <td>0.663737</td>\n",
       "      <td>0.716998</td>\n",
       "      <td>0.689340</td>\n",
       "    </tr>\n",
       "    <tr>\n",
       "      <th>2</th>\n",
       "      <td>LinearSVC</td>\n",
       "      <td>Train</td>\n",
       "      <td>0.746472</td>\n",
       "      <td>0.253528</td>\n",
       "      <td>0.640047</td>\n",
       "      <td>0.707343</td>\n",
       "      <td>0.672015</td>\n",
       "    </tr>\n",
       "    <tr>\n",
       "      <th>3</th>\n",
       "      <td>LinearSVC</td>\n",
       "      <td>Test</td>\n",
       "      <td>0.753451</td>\n",
       "      <td>0.246549</td>\n",
       "      <td>0.645902</td>\n",
       "      <td>0.724043</td>\n",
       "      <td>0.682744</td>\n",
       "    </tr>\n",
       "  </tbody>\n",
       "</table>\n",
       "</div>"
      ],
      "text/plain": [
       "              Modèle Données  Accuracy    Erreur  Précision    Recall  \\\n",
       "0  Gradient Boosting   Train  0.771359  0.228641   0.676030  0.724536   \n",
       "1  Gradient Boosting    Test  0.763214  0.236786   0.663737  0.716998   \n",
       "2          LinearSVC   Train  0.746472  0.253528   0.640047  0.707343   \n",
       "3          LinearSVC    Test  0.753451  0.246549   0.645902  0.724043   \n",
       "\n",
       "   F1-score  \n",
       "0  0.699443  \n",
       "1  0.689340  \n",
       "2  0.672015  \n",
       "3  0.682744  "
      ]
     },
     "metadata": {},
     "output_type": "display_data"
    }
   ],
   "source": [
    "# Boucle d'entraînement et évaluation\n",
    "results = []\n",
    "\n",
    "for name, model in models.items():\n",
    "    print(f\"\\n{'='*40}\\n Modèle : {name}\\n{'='*40}\")\n",
    "\n",
    "    # Entraînement\n",
    "    model.fit(X_train, y_train)\n",
    "    print(\"Paramètres utilisés :\", model.get_params())\n",
    "\n",
    "\n",
    "    for split_name, X, y_true in [(\"Train\", X_train, y_train), (\"Test\", X_test, y_test)]:\n",
    "        y_pred = model.predict(X)\n",
    "\n",
    "        acc = accuracy_score(y_true, y_pred)\n",
    "        precision = precision_score(y_true, y_pred)\n",
    "        recall = recall_score(y_true, y_pred)\n",
    "        f1 = f1_score(y_true, y_pred)\n",
    "        error_rate = 1 - acc\n",
    "        cm = confusion_matrix(y_true, y_pred)\n",
    "\n",
    "        # Affichage\n",
    "        print(f\"\\n Résultats sur {split_name} :\")\n",
    "        print(f\" Accuracy       : {acc:.4f}\")\n",
    "        print(f\" Taux d'erreur  : {error_rate:.4f}\")\n",
    "        print(f\" Précision      : {precision:.4f}\")\n",
    "        print(f\" Recall         : {recall:.4f}\")\n",
    "        print(f\" F1-score       : {f1:.4f}\")\n",
    "        print(\" Matrice de confusion :\")\n",
    "        print(cm)\n",
    "\n",
    "        # Sauvegarde des résultats\n",
    "        results.append({\n",
    "            \"Modèle\": name,\n",
    "            \"Données\": split_name,\n",
    "            \"Accuracy\": acc,\n",
    "            \"Erreur\": error_rate,\n",
    "            \"Précision\": precision,\n",
    "            \"Recall\": recall,\n",
    "            \"F1-score\": f1\n",
    "        })\n",
    "\n",
    "# Création d’un DataFrame récapitulatif\n",
    "results_df = pd.DataFrame(results)\n",
    "print(\"\\n Récapitulatif des performances :\")\n",
    "display(results_df)\n"
   ]
  },
  {
   "cell_type": "code",
   "execution_count": 34,
   "id": "ca3d1db8",
   "metadata": {},
   "outputs": [
    {
     "name": "stdout",
     "output_type": "stream",
     "text": [
      "Cross-validation pour Gradient Boosting\n",
      "Cross-validation pour LinearSVC\n"
     ]
    },
    {
     "data": {
      "application/vnd.microsoft.datawrangler.viewer.v0+json": {
       "columns": [
        {
         "name": "index",
         "rawType": "object",
         "type": "string"
        },
        {
         "name": "Gradient Boosting",
         "rawType": "float64",
         "type": "float"
        },
        {
         "name": "LinearSVC",
         "rawType": "float64",
         "type": "float"
        }
       ],
       "conversionMethod": "pd.DataFrame",
       "ref": "56654e5f-2fef-464d-b476-65583a5716e5",
       "rows": [
        [
         "Fold 1",
         "0.7564875859166783",
         "0.7411979239725066"
        ],
        [
         "Fold 2",
         "0.7564534231200898",
         "0.752104377104377"
        ],
        [
         "Fold 3",
         "0.7623456790123457",
         "0.7463524130190797"
        ],
        [
         "Fold 4",
         "0.7616442199775533",
         "0.7453703703703703"
        ],
        [
         "Fold 5",
         "0.7591189674523008",
         "0.7411616161616161"
        ]
       ],
       "shape": {
        "columns": 2,
        "rows": 5
       }
      },
      "text/html": [
       "<div>\n",
       "<style scoped>\n",
       "    .dataframe tbody tr th:only-of-type {\n",
       "        vertical-align: middle;\n",
       "    }\n",
       "\n",
       "    .dataframe tbody tr th {\n",
       "        vertical-align: top;\n",
       "    }\n",
       "\n",
       "    .dataframe thead th {\n",
       "        text-align: right;\n",
       "    }\n",
       "</style>\n",
       "<table border=\"1\" class=\"dataframe\">\n",
       "  <thead>\n",
       "    <tr style=\"text-align: right;\">\n",
       "      <th></th>\n",
       "      <th>Gradient Boosting</th>\n",
       "      <th>LinearSVC</th>\n",
       "    </tr>\n",
       "  </thead>\n",
       "  <tbody>\n",
       "    <tr>\n",
       "      <th>Fold 1</th>\n",
       "      <td>0.756488</td>\n",
       "      <td>0.741198</td>\n",
       "    </tr>\n",
       "    <tr>\n",
       "      <th>Fold 2</th>\n",
       "      <td>0.756453</td>\n",
       "      <td>0.752104</td>\n",
       "    </tr>\n",
       "    <tr>\n",
       "      <th>Fold 3</th>\n",
       "      <td>0.762346</td>\n",
       "      <td>0.746352</td>\n",
       "    </tr>\n",
       "    <tr>\n",
       "      <th>Fold 4</th>\n",
       "      <td>0.761644</td>\n",
       "      <td>0.745370</td>\n",
       "    </tr>\n",
       "    <tr>\n",
       "      <th>Fold 5</th>\n",
       "      <td>0.759119</td>\n",
       "      <td>0.741162</td>\n",
       "    </tr>\n",
       "  </tbody>\n",
       "</table>\n",
       "</div>"
      ],
      "text/plain": [
       "        Gradient Boosting  LinearSVC\n",
       "Fold 1           0.756488   0.741198\n",
       "Fold 2           0.756453   0.752104\n",
       "Fold 3           0.762346   0.746352\n",
       "Fold 4           0.761644   0.745370\n",
       "Fold 5           0.759119   0.741162"
      ]
     },
     "metadata": {},
     "output_type": "display_data"
    },
    {
     "name": "stdout",
     "output_type": "stream",
     "text": [
      "\n",
      "Résumé des performances (moyenne ± écart-type) :\n"
     ]
    },
    {
     "data": {
      "application/vnd.microsoft.datawrangler.viewer.v0+json": {
       "columns": [
        {
         "name": "index",
         "rawType": "int64",
         "type": "integer"
        },
        {
         "name": "Modèle",
         "rawType": "object",
         "type": "string"
        },
        {
         "name": "Moyenne accuracy",
         "rawType": "float64",
         "type": "float"
        },
        {
         "name": "Écart-type",
         "rawType": "float64",
         "type": "float"
        }
       ],
       "conversionMethod": "pd.DataFrame",
       "ref": "f7645465-1fd9-43d6-bfec-d336139cce63",
       "rows": [
        [
         "0",
         "Gradient Boosting",
         "0.7592099750957936",
         "0.0027738263835876747"
        ],
        [
         "1",
         "LinearSVC",
         "0.74523734012559",
         "0.004509592280909454"
        ]
       ],
       "shape": {
        "columns": 3,
        "rows": 2
       }
      },
      "text/html": [
       "<div>\n",
       "<style scoped>\n",
       "    .dataframe tbody tr th:only-of-type {\n",
       "        vertical-align: middle;\n",
       "    }\n",
       "\n",
       "    .dataframe tbody tr th {\n",
       "        vertical-align: top;\n",
       "    }\n",
       "\n",
       "    .dataframe thead th {\n",
       "        text-align: right;\n",
       "    }\n",
       "</style>\n",
       "<table border=\"1\" class=\"dataframe\">\n",
       "  <thead>\n",
       "    <tr style=\"text-align: right;\">\n",
       "      <th></th>\n",
       "      <th>Modèle</th>\n",
       "      <th>Moyenne accuracy</th>\n",
       "      <th>Écart-type</th>\n",
       "    </tr>\n",
       "  </thead>\n",
       "  <tbody>\n",
       "    <tr>\n",
       "      <th>0</th>\n",
       "      <td>Gradient Boosting</td>\n",
       "      <td>0.759210</td>\n",
       "      <td>0.002774</td>\n",
       "    </tr>\n",
       "    <tr>\n",
       "      <th>1</th>\n",
       "      <td>LinearSVC</td>\n",
       "      <td>0.745237</td>\n",
       "      <td>0.004510</td>\n",
       "    </tr>\n",
       "  </tbody>\n",
       "</table>\n",
       "</div>"
      ],
      "text/plain": [
       "              Modèle  Moyenne accuracy  Écart-type\n",
       "0  Gradient Boosting          0.759210    0.002774\n",
       "1          LinearSVC          0.745237    0.004510"
      ]
     },
     "metadata": {},
     "output_type": "display_data"
    },
    {
     "data": {
      "image/png": "[encoded data removed]",
      "text/plain": [
       "<Figure size 1000x600 with 1 Axes>"
      ]
     },
     "metadata": {},
     "output_type": "display_data"
    }
   ],
   "source": [
    "# Résultats de cross-validation\n",
    "cv_results = {}\n",
    "n_folds = 5\n",
    "\n",
    "for name, model in models.items():\n",
    "    print(f\"Cross-validation pour {name}\")\n",
    "    scores = cross_val_score(model, X_train, y_train, cv=n_folds, scoring='accuracy')\n",
    "    cv_results[name] = scores\n",
    "\n",
    "# Convertir en DataFrame\n",
    "df_cv = pd.DataFrame(cv_results)\n",
    "df_cv.index = [f\"Fold {i+1}\" for i in range(n_folds)]\n",
    "\n",
    "# Afficher les scores\n",
    "display(df_cv)\n",
    "\n",
    "# Moyenne et écart-type\n",
    "summary_df = pd.DataFrame({\n",
    "    \"Modèle\": df_cv.columns,\n",
    "    \"Moyenne accuracy\": df_cv.mean().values,\n",
    "    \"Écart-type\": df_cv.std().values\n",
    "})\n",
    "print(\"\\nRésumé des performances (moyenne ± écart-type) :\")\n",
    "display(summary_df)\n",
    "\n",
    "# Visualisation\n",
    "plt.figure(figsize=(10, 6))\n",
    "for model in df_cv.columns:\n",
    "    plt.plot(df_cv.index, df_cv[model], marker='o', label=model)\n",
    "plt.title(\"Évolution de l'accuracy par fold\")\n",
    "plt.ylabel(\"Accuracy\")\n",
    "plt.xlabel(\"Fold\")\n",
    "plt.legend(loc=\"lower right\", bbox_to_anchor=(1.15, 0.5))\n",
    "plt.tight_layout()\n",
    "plt.show()\n"
   ]
  },
  {
   "cell_type": "markdown",
   "id": "8a22072a",
   "metadata": {},
   "source": [
    "# Optimisation des modèles\n",
    "\n",
    "À partir de notre pipeline, on va optimiser les deux modèles retenus :\n",
    "LinearSVC (modèle linéaire ) et GradientBoosting (modèle non-linéaire )\n",
    "\n",
    "### === Resampling & Grid Search ===\n",
    "\n",
    "Nous avons observé un déséquilibre modéré entre les classes (≈63 % de non-fumeurs vs 37 % de fumeurs).  Pour éviter que les modèles soient biaisés en faveur de la classe majoritaire, nous avons expérimenté des techniques de **resampling**, appliquées uniquement sur le jeu d'entraînement.\n",
    "\n",
    " Dans notre cas, nous avons choisi le **RandomUnderSampler**, qui consiste à réduire le nombre de non-fumeurs pour équilibrer la distribution des classes sans introduire de données synthétiques.\n",
    "\n",
    "Cette étape est suivie d'une **recherche des meilleurs hyperparamètres** par validation croisée (GridSearchCV), en se basant sur la métrique de **rappel (recall)**, qui est importante  pour maximiser la détection des fumeurs.\n",
    "\n",
    "( Chaque modèle sera traité séparément pour combiner ces deux étapes (resampling + optimisation))\n"
   ]
  },
  {
   "cell_type": "markdown",
   "id": "d8466e20",
   "metadata": {},
   "source": [
    "**LinearSVC Pipeline**"
   ]
  },
  {
   "cell_type": "code",
   "execution_count": 39,
   "id": "f3b8983c",
   "metadata": {},
   "outputs": [
    {
     "name": "stdout",
     "output_type": "stream",
     "text": [
      "Fitting 5 folds for each of 4 candidates, totalling 20 fits\n",
      "Résultats LinearSVC optimisé :\n",
      "Recall     : 0.9347626339969373\n",
      "F1-score   : 0.7076281010897287\n",
      "Accuracy   : 0.7169790147009314\n",
      "Precision  : 0.5692967729901138\n",
      "Best Params: {'model__C': 1}\n"
     ]
    }
   ],
   "source": [
    "\n",
    "# Repartir proprement\n",
    "X = df[num_cols + bool_cols + ordinal_col].copy()\n",
    "y = df[\"smoking\"].copy()\n",
    "\n",
    "# Split des données\n",
    "X_train, X_test, y_train, y_test = train_test_split(X, y, test_size=0.2, random_state=42)\n",
    "\n",
    "# Winsorisation \n",
    "for col in columns_to_winsorize:\n",
    "    X_train[col], X_test[col] = winsorize_data(X_train, X_test, feature=col)\n",
    "\n",
    "# Undersampling (sur le train uniquement)\n",
    "rus = RandomUnderSampler(random_state=42)\n",
    "X_resampled, y_resampled = rus.fit_resample(X_train, y_train)\n",
    "\n",
    "# Préprocessing pipeline\n",
    "preprocessor = ColumnTransformer([\n",
    "    ('num', StandardScaler(), num_cols),\n",
    "    ('ord', OrdinalEncoder(), ordinal_col),\n",
    "    ('bool', 'passthrough', bool_cols)\n",
    "])\n",
    "\n",
    "# Pipeline avec LinearSVC\n",
    "pipeline = Pipeline([\n",
    "    ('preprocessing', preprocessor),\n",
    "    ('model', LinearSVC(max_iter=2000, random_state=42))\n",
    "])\n",
    "\n",
    "#  Grille d'hyperparamètres\n",
    "param_grid = {\n",
    "    'model__C': [0.01, 0.1, 1, 10]\n",
    "}\n",
    "\n",
    "# GridSearch avec rappel en priorité\n",
    "grid_search = GridSearchCV(\n",
    "    estimator=pipeline,\n",
    "    param_grid=param_grid,\n",
    "    scoring='recall',\n",
    "    cv=5,\n",
    "    n_jobs=-1,\n",
    "    verbose=1\n",
    ")\n",
    "\n",
    "#  Entraînement\n",
    "grid_search.fit(X_resampled, y_resampled)\n",
    "best_model = grid_search.best_estimator_\n",
    "\n",
    "# Évaluation sur le test \n",
    "y_pred = best_model.predict(X_test)\n",
    "\n",
    "print(\"Résultats LinearSVC optimisé :\")\n",
    "print(\"Recall     :\", recall_score(y_test, y_pred))\n",
    "print(\"F1-score   :\", f1_score(y_test, y_pred))\n",
    "print(\"Accuracy   :\", accuracy_score(y_test, y_pred))\n",
    "print(\"Precision  :\", precision_score(y_test, y_pred))\n",
    "print(\"Best Params:\", grid_search.best_params_)\n"
   ]
  },
  {
   "cell_type": "markdown",
   "id": "15d7d225",
   "metadata": {},
   "source": [
    "**Gradient Boosting Pipeline** "
   ]
  },
  {
   "cell_type": "code",
   "execution_count": 36,
   "id": "985c3d83",
   "metadata": {},
   "outputs": [
    {
     "name": "stdout",
     "output_type": "stream",
     "text": [
      "Fitting 5 folds for each of 8 candidates, totalling 40 fits\n",
      "Recall : 0.9139356814701378\n",
      "F1-score : 0.7176527176527177\n",
      "Accuracy : 0.7365054427112557\n",
      "Precision : 0.5907741041377945\n",
      "Best Params : {'model__learning_rate': 0.05, 'model__max_depth': 3, 'model__n_estimators': 100}\n"
     ]
    }
   ],
   "source": [
    "\n",
    "#  repartir proprement \n",
    "X = df[num_cols + bool_cols + ordinal_col].copy()\n",
    "y = df[\"smoking\"].copy()\n",
    "\n",
    "# Split des données\n",
    "X_train , X_test, y_train, y_test = train_test_split(\n",
    "    X, y, test_size=0.2, shuffle=True, random_state=42\n",
    ")\n",
    "\n",
    "# Winsorisation \n",
    "for col in columns_to_winsorize:\n",
    "    X_train[col], X_test[col] = winsorize_data(X_train, X_test, feature=col)\n",
    "\n",
    "# Undersampling \n",
    "rus = RandomUnderSampler(random_state=42)\n",
    "X_resampled, y_resampled = rus.fit_resample(X_train, y_train)\n",
    "\n",
    "# Pipeline de prétraitement\n",
    "preprocessor = ColumnTransformer([\n",
    "    ('num', StandardScaler(), num_cols),\n",
    "    ('ord', OrdinalEncoder(), ordinal_col),\n",
    "    ('bool', 'passthrough', bool_cols)\n",
    "])\n",
    "\n",
    "# Modèle\n",
    "pipeline = Pipeline([\n",
    "    ('preprocessing', preprocessor),\n",
    "    ('model', GradientBoostingClassifier(random_state=42))\n",
    "])\n",
    "\n",
    "# Grille d'hyperparamètres\n",
    "param_grid = {\n",
    "    'model__n_estimators': [100, 200],\n",
    "    'model__learning_rate': [0.05, 0.1],\n",
    "    'model__max_depth': [3, 4]\n",
    "}\n",
    "\n",
    "# GridSearch avec recall comme métrique\n",
    "grid_search = GridSearchCV(\n",
    "    estimator=pipeline,\n",
    "    param_grid=param_grid,\n",
    "    scoring='recall',\n",
    "    cv=5,\n",
    "    n_jobs=-1,\n",
    "    verbose=1\n",
    ")\n",
    "\n",
    "# Entraînement\n",
    "grid_search.fit(X_resampled, y_resampled)\n",
    "best_model = grid_search.best_estimator_\n",
    "\n",
    "# Évaluation\n",
    "y_pred = best_model.predict(X_test)\n",
    "print(\"Recall :\", recall_score(y_test, y_pred))\n",
    "print(\"F1-score :\", f1_score(y_test, y_pred))\n",
    "print(\"Accuracy :\", accuracy_score(y_test, y_pred))\n",
    "print(\"Precision :\", precision_score(y_test, y_pred))\n",
    "print(\"Best Params :\", grid_search.best_params_)"
   ]
  },
  {
   "cell_type": "markdown",
   "id": "c1a45b0b",
   "metadata": {},
   "source": [
    "### === Sélection des variables ===\n"
   ]
  },
  {
   "cell_type": "code",
   "execution_count": null,
   "id": "34878a85",
   "metadata": {},
   "outputs": [
    {
     "name": "stdout",
     "output_type": "stream",
     "text": [
      " Variables sélectionnées : [np.str_('height(cm)'), np.str_('weight(kg)'), np.str_('systolic'), np.str_('Cholesterol'), np.str_('triglyceride'), np.str_('hemoglobin'), np.str_('serum_creatinine'), np.str_('ALT'), np.str_('Gtp'), np.str_('dental_caries'), np.str_('tartar'), np.str_('homme')]\n",
      "\n",
      " Résultats après sélection de variables :\n",
      "Recall     : 0.7240428790199082\n",
      "F1-score   : 0.6844238563983787\n",
      "Accuracy   : 0.7553585456177758\n",
      "Precision  : 0.6489157287949492\n"
     ]
    }
   ],
   "source": [
    "# Récupération du modèle entraîné (LinearSVC)\n",
    "final_svc = best_model.named_steps['model']\n",
    "final_preproc = best_model.named_steps['preprocessing']\n",
    "\n",
    "# ransformation des données train/test avec le prétraitement seul\n",
    "X_train_processed = final_preproc.transform(X_train)\n",
    "X_test_processed = final_preproc.transform(X_test)\n",
    "\n",
    "# Construction des noms de colonnes\n",
    "all_features = num_cols + ordinal_col + bool_cols\n",
    "\n",
    "# Création d'un SelectFromModel basé sur les coef_\n",
    "sfm = SelectFromModel(estimator=final_svc, threshold='median', prefit=True)\n",
    "\n",
    "# Sélection des colonnes importantes\n",
    "mask = sfm.get_support()\n",
    "selected_features = np.array(all_features)[mask]\n",
    "print(\" Variables sélectionnées :\", list(selected_features))\n",
    "\n",
    "# Réduction des données à ces colonnes\n",
    "X_train_selected = sfm.transform(X_train_processed)\n",
    "X_test_selected = sfm.transform(X_test_processed)\n",
    "\n",
    "# Réentraîner un modèle final sur les variables sélectionnées\n",
    "final_model = LinearSVC(C=grid_search.best_params_['model__C'], max_iter=2000, random_state=42)\n",
    "final_model.fit(X_train_selected, y_train)\n",
    "\n",
    "#  Prédictions sur test réduit\n",
    "y_pred_selected = final_model.predict(X_test_selected)\n",
    "\n",
    "# 9. Évaluation finale\n",
    "print(\"\\n Résultats après sélection de variables :\")\n",
    "print(\"Recall     :\", recall_score(y_test, y_pred_selected))\n",
    "print(\"F1-score   :\", f1_score(y_test, y_pred_selected))\n",
    "print(\"Accuracy   :\", accuracy_score(y_test, y_pred_selected))\n",
    "print(\"Precision  :\", precision_score(y_test, y_pred_selected))\n"
   ]
  },
  {
   "cell_type": "code",
   "execution_count": null,
   "id": "6ef3a5ca",
   "metadata": {},
   "outputs": [],
   "source": []
  }
 ],
 "metadata": {
  "kernelspec": {
   "display_name": ".venv",
   "language": "python",
   "name": "python3"
  },
  "language_info": {
   "codemirror_mode": {
    "name": "ipython",
    "version": 3
   },
   "file_extension": ".py",
   "mimetype": "text/x-python",
   "name": "python",
   "nbconvert_exporter": "python",
   "pygments_lexer": "ipython3",
   "version": "3.9.6"
  }
 },
 "nbformat": 4,
 "nbformat_minor": 5
}
